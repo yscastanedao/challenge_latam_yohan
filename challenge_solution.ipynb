{
 "cells": [
  {
   "cell_type": "markdown",
   "metadata": {},
   "source": [
    "### LATAM CHALLENGE - Yohan Sebastian \n",
    "Este challenge consistió en realizar optimizaciones en cuanto a rendimiento y memoria en diversos casos de uso"
   ]
  },
  {
   "cell_type": "markdown",
   "metadata": {},
   "source": [
    "### Resumen\n",
    "\n",
    "Los datos analizados fueron proporcionados por LATAM, los cuales consisten en un archivo JSON de 400Mb de tamaño. \n",
    "El desarrollo del reto propuesto será desarrollado en un notebook de python utilizando un editor de código tradiciones como lo es VS Code, el repositorio de git en el cual se alojará la solución está en mi cuenta personal de GitHub, no obstante se hará público para su revisión. \n",
    "El código adjunto puede ser fácilmente llevado a la nube, bien sea de google - aws - azure u otra, eligiendo el mejor servicio para su despliegue, se recomiendan usar tecnologías serverless para su ejecución ya que optimizan rendimiento y recursos."
   ]
  },
  {
   "cell_type": "markdown",
   "metadata": {},
   "source": [
    "Se importan los módulos correspondientes desde src, de modo que podemos acceder a los diferentes métodos desarrollados en el presente challenge. Las librerías usadas a instalar se relacionan en el archivo de requirements.txt, la versión de python utilizada es la 3.8"
   ]
  },
  {
   "cell_type": "code",
   "execution_count": 34,
   "metadata": {},
   "outputs": [],
   "source": [
    "from src import q1_memory, q1_time, q2_memory, q2_time, q3_memory, q3_time "
   ]
  },
  {
   "cell_type": "markdown",
   "metadata": {},
   "source": [
    "El file_path que relaciono en la siguiente celda es un file_path de mi computadora local personal, sin embargo dicho path corresponde a la ruta donde se aloja la data proporcionada por LATAM. Si el proyecto se lleva a la nube, dicho path correspondería a la ruta del sistema de almacenamiento de preferencia, por ejemplo en google cloud storage, aws S3, azure datalake."
   ]
  },
  {
   "cell_type": "code",
   "execution_count": 15,
   "metadata": {},
   "outputs": [
    {
     "name": "stdout",
     "output_type": "stream",
     "text": [
      "The memory_profiler extension is already loaded. To reload it, use:\n",
      "  %reload_ext memory_profiler\n",
      "The line_profiler extension is already loaded. To reload it, use:\n",
      "  %reload_ext line_profiler\n"
     ]
    }
   ],
   "source": [
    "#definimos el path json de la data y los comandos magic para evaluar tiempo y memoria\n",
    "file_path = \"C:/Users/User/Desktop/arquitectura/tweets.json/farmers-protest-tweets-2021-2-4.json\"\n",
    "%load_ext memory_profiler\n",
    "%load_ext line_profiler"
   ]
  },
  {
   "cell_type": "markdown",
   "metadata": {},
   "source": [
    "A continuación se llamarán los métodos desarrollados en los diferentes módulos, y a cada uno de ellos se les aplicarán las funciones que describen el comportamiento en cuanto a memoria y rendimiento"
   ]
  },
  {
   "cell_type": "code",
   "execution_count": 4,
   "metadata": {},
   "outputs": [
    {
     "data": {
      "text/plain": [
       "[(datetime.date(2021, 2, 12), 'RanbirS00614606', 176),\n",
       " (datetime.date(2021, 2, 13), 'MaanDee08215437', 178),\n",
       " (datetime.date(2021, 2, 14), 'rebelpacifist', 119),\n",
       " (datetime.date(2021, 2, 15), 'jot__b', 134),\n",
       " (datetime.date(2021, 2, 16), 'jot__b', 133),\n",
       " (datetime.date(2021, 2, 17), 'RaaJVinderkaur', 185),\n",
       " (datetime.date(2021, 2, 18), 'neetuanjle_nitu', 195),\n",
       " (datetime.date(2021, 2, 19), 'Preetm91', 267),\n",
       " (datetime.date(2021, 2, 20), 'MangalJ23056160', 108),\n",
       " (datetime.date(2021, 2, 23), 'Surrypuria', 135)]"
      ]
     },
     "execution_count": 4,
     "metadata": {},
     "output_type": "execute_result"
    }
   ],
   "source": [
    "q1_time.q1_time(file_path)"
   ]
  },
  {
   "cell_type": "code",
   "execution_count": 18,
   "metadata": {},
   "outputs": [
    {
     "name": "stdout",
     "output_type": "stream",
     "text": [
      "7.69 s ± 1.04 s per loop (mean ± std. dev. of 7 runs, 1 loop each)\n"
     ]
    }
   ],
   "source": [
    "%timeit q1_time.q1_time(file_path)"
   ]
  },
  {
   "cell_type": "code",
   "execution_count": 19,
   "metadata": {},
   "outputs": [
    {
     "name": "stdout",
     "output_type": "stream",
     "text": [
      "peak memory: 549.52 MiB, increment: 430.46 MiB\n"
     ]
    }
   ],
   "source": [
    "%memit q1_time.q1_time(file_path)"
   ]
  },
  {
   "cell_type": "code",
   "execution_count": 16,
   "metadata": {},
   "outputs": [
    {
     "data": {
      "text/plain": [
       "[('2021-02-12', 'RanbirS00614606'),\n",
       " ('2021-02-13', 'MaanDee08215437'),\n",
       " ('2021-02-17', 'RaaJVinderkaur'),\n",
       " ('2021-02-16', 'jot__b'),\n",
       " ('2021-02-14', 'rebelpacifist'),\n",
       " ('2021-02-18', 'neetuanjle_nitu'),\n",
       " ('2021-02-15', 'jot__b'),\n",
       " ('2021-02-20', 'MangalJ23056160'),\n",
       " ('2021-02-23', 'Surrypuria'),\n",
       " ('2021-02-19', 'Preetm91')]"
      ]
     },
     "execution_count": 16,
     "metadata": {},
     "output_type": "execute_result"
    }
   ],
   "source": [
    "q1_memory.q1_memory(file_path)"
   ]
  },
  {
   "cell_type": "code",
   "execution_count": 20,
   "metadata": {},
   "outputs": [
    {
     "name": "stdout",
     "output_type": "stream",
     "text": [
      "32.6 s ± 876 ms per loop (mean ± std. dev. of 7 runs, 1 loop each)\n"
     ]
    }
   ],
   "source": [
    "%timeit q1_memory.q1_memory(file_path)"
   ]
  },
  {
   "cell_type": "code",
   "execution_count": 21,
   "metadata": {},
   "outputs": [
    {
     "name": "stdout",
     "output_type": "stream",
     "text": [
      "peak memory: 119.11 MiB, increment: 0.00 MiB\n"
     ]
    }
   ],
   "source": [
    "%memit q1_memory.q1_memory(file_path)"
   ]
  },
  {
   "cell_type": "code",
   "execution_count": 22,
   "metadata": {},
   "outputs": [
    {
     "data": {
      "text/plain": [
       "[('🙏', 5049),\n",
       " ('😂', 3072),\n",
       " ('🚜', 2972),\n",
       " ('🌾', 2182),\n",
       " ('🇮🇳', 2086),\n",
       " ('🤣', 1668),\n",
       " ('✊', 1651),\n",
       " ('❤️', 1382),\n",
       " ('🙏🏻', 1317),\n",
       " ('💚', 1040)]"
      ]
     },
     "execution_count": 22,
     "metadata": {},
     "output_type": "execute_result"
    }
   ],
   "source": [
    "q2_time.q2_time(file_path)"
   ]
  },
  {
   "cell_type": "code",
   "execution_count": 23,
   "metadata": {},
   "outputs": [
    {
     "name": "stdout",
     "output_type": "stream",
     "text": [
      "20.9 s ± 1.19 s per loop (mean ± std. dev. of 7 runs, 1 loop each)\n"
     ]
    }
   ],
   "source": [
    "%timeit q2_time.q2_time(file_path)"
   ]
  },
  {
   "cell_type": "code",
   "execution_count": 24,
   "metadata": {},
   "outputs": [
    {
     "name": "stdout",
     "output_type": "stream",
     "text": [
      "peak memory: 136.84 MiB, increment: 29.46 MiB\n"
     ]
    }
   ],
   "source": [
    "%memit q2_time.q2_time(file_path)"
   ]
  },
  {
   "cell_type": "code",
   "execution_count": 25,
   "metadata": {},
   "outputs": [
    {
     "data": {
      "text/plain": [
       "[('🙏', 5049),\n",
       " ('😂', 3072),\n",
       " ('🚜', 2972),\n",
       " ('🌾', 2182),\n",
       " ('🇮🇳', 2086),\n",
       " ('🤣', 1668),\n",
       " ('✊', 1651),\n",
       " ('❤️', 1382),\n",
       " ('🙏🏻', 1317),\n",
       " ('💚', 1040)]"
      ]
     },
     "execution_count": 25,
     "metadata": {},
     "output_type": "execute_result"
    }
   ],
   "source": [
    "q2_memory.q2_memory(file_path)"
   ]
  },
  {
   "cell_type": "code",
   "execution_count": 26,
   "metadata": {},
   "outputs": [
    {
     "name": "stdout",
     "output_type": "stream",
     "text": [
      "22.8 s ± 1.69 s per loop (mean ± std. dev. of 7 runs, 1 loop each)\n"
     ]
    }
   ],
   "source": [
    "%timeit q2_memory.q2_memory(file_path)"
   ]
  },
  {
   "cell_type": "code",
   "execution_count": 27,
   "metadata": {},
   "outputs": [
    {
     "name": "stdout",
     "output_type": "stream",
     "text": [
      "peak memory: 117.89 MiB, increment: 0.00 MiB\n"
     ]
    }
   ],
   "source": [
    "%memit q2_memory.q2_memory(file_path)"
   ]
  },
  {
   "cell_type": "code",
   "execution_count": 38,
   "metadata": {},
   "outputs": [
    {
     "data": {
      "text/plain": [
       "[('narendramodi', 2265),\n",
       " ('Kisanektamorcha', 1840),\n",
       " ('RakeshTikaitBKU', 1644),\n",
       " ('PMOIndia', 1427),\n",
       " ('RahulGandhi', 1146),\n",
       " ('GretaThunberg', 1048),\n",
       " ('RaviSinghKA', 1019),\n",
       " ('rihanna', 986),\n",
       " ('UNHumanRights', 962),\n",
       " ('meenaharris', 926)]"
      ]
     },
     "execution_count": 38,
     "metadata": {},
     "output_type": "execute_result"
    }
   ],
   "source": [
    "q3_time.q3_time(file_path)"
   ]
  },
  {
   "cell_type": "code",
   "execution_count": 40,
   "metadata": {},
   "outputs": [
    {
     "name": "stdout",
     "output_type": "stream",
     "text": [
      "5.09 s ± 52.9 ms per loop (mean ± std. dev. of 7 runs, 1 loop each)\n"
     ]
    }
   ],
   "source": [
    "%timeit q3_time.q3_time(file_path)"
   ]
  },
  {
   "cell_type": "code",
   "execution_count": 44,
   "metadata": {},
   "outputs": [
    {
     "name": "stdout",
     "output_type": "stream",
     "text": [
      "peak memory: 90.34 MiB, increment: 0.00 MiB\n"
     ]
    }
   ],
   "source": [
    "%memit q3_time.q3_time(file_path)"
   ]
  },
  {
   "cell_type": "code",
   "execution_count": 41,
   "metadata": {},
   "outputs": [
    {
     "data": {
      "text/plain": [
       "[('narendramodi', 2265),\n",
       " ('Kisanektamorcha', 1840),\n",
       " ('RakeshTikaitBKU', 1644),\n",
       " ('PMOIndia', 1427),\n",
       " ('RahulGandhi', 1146),\n",
       " ('GretaThunberg', 1048),\n",
       " ('RaviSinghKA', 1019),\n",
       " ('rihanna', 986),\n",
       " ('UNHumanRights', 962),\n",
       " ('meenaharris', 926)]"
      ]
     },
     "execution_count": 41,
     "metadata": {},
     "output_type": "execute_result"
    }
   ],
   "source": [
    "q3_memory.q3_memory(file_path)"
   ]
  },
  {
   "cell_type": "code",
   "execution_count": 43,
   "metadata": {},
   "outputs": [
    {
     "name": "stdout",
     "output_type": "stream",
     "text": [
      "5.4 s ± 346 ms per loop (mean ± std. dev. of 7 runs, 1 loop each)\n"
     ]
    }
   ],
   "source": [
    "%timeit q3_memory.q3_memory(file_path)"
   ]
  },
  {
   "cell_type": "code",
   "execution_count": 42,
   "metadata": {},
   "outputs": [
    {
     "name": "stdout",
     "output_type": "stream",
     "text": [
      "peak memory: 90.31 MiB, increment: 0.00 MiB\n"
     ]
    }
   ],
   "source": [
    "%memit q3_memory.q3_memory(file_path)"
   ]
  },
  {
   "cell_type": "markdown",
   "metadata": {},
   "source": [
    "### CONCLUSIONES\n",
    "Comparaciones finales de rendimeinto y memoria para cada uno de los casos estudiados\n",
    "\n",
    "\n",
    "| Funcion | Tiempo | Memoria |\n",
    "|---------|--------|---------|\n",
    "| q1_time | 7.69 | 549.52 Mib |\n",
    "| q1_memory | 32.6s  | 119.11 MiB |\n",
    "| q2_time | 20.9 | 136.84 Mib |\n",
    "| q2_memory | 22.8s  | 117.89 MiB |\n",
    "| q3_time | 5.09s  | 90.34 MiB |\n",
    "| q3_memory | 5.4 | 90.31 Mib |\n",
    "\n",
    "Consideraciones:\n",
    "El particionamiento de los datos utilizado en el q1_memory mostró una reducción muy significativa en cuanto al uso de memoria, sin embargo se sacrificó rendimiento, dicho rendimiento pudo maximizarse si hubiesemos ejecutado las tareas en hilos o en un cluster donde múltiples workers realizarán las diferentes operaciones.\n",
    "La lectura y procesamiento línea a línea mostró mejor desempeño en memoria que la lectura completa del archivo, sin embargo en términos de tiempo/rendimiento fue mejor consolidar el archivo para su posterior procesamiento.\n",
    "El manejo de condicionales y filtros hacen ligeramente en el caso q3_time más eficiente el código en rendimiento, sin embargo en cuanto a memoria no se mostró mayor variación entre un caso y el otro.\n"
   ]
  }
 ],
 "metadata": {
  "kernelspec": {
   "display_name": "Python 3",
   "language": "python",
   "name": "python3"
  },
  "language_info": {
   "codemirror_mode": {
    "name": "ipython",
    "version": 3
   },
   "file_extension": ".py",
   "mimetype": "text/x-python",
   "name": "python",
   "nbconvert_exporter": "python",
   "pygments_lexer": "ipython3",
   "version": "3.8.0"
  }
 },
 "nbformat": 4,
 "nbformat_minor": 2
}
